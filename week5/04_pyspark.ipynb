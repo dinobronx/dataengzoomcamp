{
 "cells": [
  {
   "cell_type": "code",
   "execution_count": 2,
   "id": "4473c702",
   "metadata": {},
   "outputs": [],
   "source": [
    "import pyspark\n",
    "from pyspark.sql import SparkSession"
   ]
  },
  {
   "cell_type": "code",
   "execution_count": 3,
   "id": "0d610556",
   "metadata": {},
   "outputs": [
    {
     "name": "stdout",
     "output_type": "stream",
     "text": [
      "23/03/01 22:35:04 WARN Utils: Your hostname, Bronx.local resolves to a loopback address: 127.0.0.1; using 192.168.1.112 instead (on interface en0)\n",
      "23/03/01 22:35:04 WARN Utils: Set SPARK_LOCAL_IP if you need to bind to another address\n"
     ]
    },
    {
     "name": "stderr",
     "output_type": "stream",
     "text": [
      "Setting default log level to \"WARN\".\n",
      "To adjust logging level use sc.setLogLevel(newLevel). For SparkR, use setLogLevel(newLevel).\n"
     ]
    },
    {
     "name": "stdout",
     "output_type": "stream",
     "text": [
      "23/03/01 22:35:04 WARN NativeCodeLoader: Unable to load native-hadoop library for your platform... using builtin-java classes where applicable\n"
     ]
    }
   ],
   "source": [
    "spark = SparkSession.builder \\\n",
    "        .master('local[*]') \\\n",
    "        .appName('test') \\\n",
    "        .getOrCreate()"
   ]
  },
  {
   "cell_type": "code",
   "execution_count": 4,
   "id": "69696175",
   "metadata": {},
   "outputs": [
    {
     "name": "stdout",
     "output_type": "stream",
     "text": [
      " 11908469 fhvhv_tripdata_2021-01.csv\r\n"
     ]
    }
   ],
   "source": [
    "!wc -l fhvhv_tripdata_2021-01.csv"
   ]
  },
  {
   "cell_type": "code",
   "execution_count": 11,
   "id": "35b91588",
   "metadata": {},
   "outputs": [],
   "source": [
    "df = spark.read \\\n",
    "      .option(\"header\", \"true\") \\\n",
    "      .csv(\"fhvhv_tripdata_2021-01.csv\")"
   ]
  },
  {
   "cell_type": "code",
   "execution_count": 6,
   "id": "696740d0",
   "metadata": {},
   "outputs": [
    {
     "name": "stdout",
     "output_type": "stream",
     "text": [
      "+-----------------+--------------------+-------------------+-------------------+------------+------------+-------+\n",
      "|hvfhs_license_num|dispatching_base_num|    pickup_datetime|   dropoff_datetime|PULocationID|DOLocationID|SR_Flag|\n",
      "+-----------------+--------------------+-------------------+-------------------+------------+------------+-------+\n",
      "|           HV0003|              B02682|2021-01-01 00:33:44|2021-01-01 00:49:07|         230|         166|   null|\n",
      "|           HV0003|              B02682|2021-01-01 00:55:19|2021-01-01 01:18:21|         152|         167|   null|\n",
      "|           HV0003|              B02764|2021-01-01 00:23:56|2021-01-01 00:38:05|         233|         142|   null|\n",
      "|           HV0003|              B02764|2021-01-01 00:42:51|2021-01-01 00:45:50|         142|         143|   null|\n",
      "|           HV0003|              B02764|2021-01-01 00:48:14|2021-01-01 01:08:42|         143|          78|   null|\n",
      "|           HV0005|              B02510|2021-01-01 00:06:59|2021-01-01 00:43:01|          88|          42|   null|\n",
      "|           HV0005|              B02510|2021-01-01 00:50:00|2021-01-01 01:04:57|          42|         151|   null|\n",
      "|           HV0003|              B02764|2021-01-01 00:14:30|2021-01-01 00:50:27|          71|         226|   null|\n",
      "|           HV0003|              B02875|2021-01-01 00:22:54|2021-01-01 00:30:20|         112|         255|   null|\n",
      "|           HV0003|              B02875|2021-01-01 00:40:12|2021-01-01 00:53:31|         255|         232|   null|\n",
      "|           HV0003|              B02875|2021-01-01 00:56:45|2021-01-01 01:17:42|         232|         198|   null|\n",
      "|           HV0003|              B02835|2021-01-01 00:29:04|2021-01-01 00:36:27|         113|          48|   null|\n",
      "|           HV0003|              B02835|2021-01-01 00:48:56|2021-01-01 00:59:12|         239|          75|   null|\n",
      "|           HV0004|              B02800|2021-01-01 00:15:24|2021-01-01 00:38:31|         181|         237|   null|\n",
      "|           HV0004|              B02800|2021-01-01 00:45:00|2021-01-01 01:06:45|         236|          68|   null|\n",
      "|           HV0003|              B02682|2021-01-01 00:11:53|2021-01-01 00:18:06|         256|         148|   null|\n",
      "|           HV0003|              B02682|2021-01-01 00:28:31|2021-01-01 00:41:40|          79|          80|   null|\n",
      "|           HV0003|              B02682|2021-01-01 00:50:49|2021-01-01 00:55:59|          17|         217|   null|\n",
      "|           HV0005|              B02510|2021-01-01 00:08:40|2021-01-01 00:39:39|          62|          29|   null|\n",
      "|           HV0003|              B02836|2021-01-01 00:53:48|2021-01-01 01:11:40|          22|          22|   null|\n",
      "+-----------------+--------------------+-------------------+-------------------+------------+------------+-------+\n",
      "only showing top 20 rows\n",
      "\n"
     ]
    }
   ],
   "source": [
    "df.show()"
   ]
  },
  {
   "cell_type": "code",
   "execution_count": 7,
   "id": "31e465d2",
   "metadata": {},
   "outputs": [
    {
     "data": {
      "text/plain": [
       "Row(hvfhs_license_num='HV0003', dispatching_base_num='B02682', pickup_datetime='2021-01-01 00:33:44', dropoff_datetime='2021-01-01 00:49:07', PULocationID='230', DOLocationID='166', SR_Flag=None)"
      ]
     },
     "execution_count": 7,
     "metadata": {},
     "output_type": "execute_result"
    }
   ],
   "source": [
    "df.head()"
   ]
  },
  {
   "cell_type": "code",
   "execution_count": 8,
   "id": "806b220b",
   "metadata": {},
   "outputs": [],
   "source": [
    "# save the first 101 rows to head.csv, because pandas might be slow to read big data\n",
    "!head -n 101 fhvhv_tripdata_2021-01.csv > head.csv"
   ]
  },
  {
   "cell_type": "code",
   "execution_count": 9,
   "id": "3b88ab51",
   "metadata": {},
   "outputs": [
    {
     "name": "stdout",
     "output_type": "stream",
     "text": [
      "hvfhs_license_num,dispatching_base_num,pickup_datetime,dropoff_datetime,PULocationID,DOLocationID,SR_Flag\r",
      "\r\n",
      "HV0003,B02682,2021-01-01 00:33:44,2021-01-01 00:49:07,230,166,\r",
      "\r\n",
      "HV0003,B02682,2021-01-01 00:55:19,2021-01-01 01:18:21,152,167,\r",
      "\r\n",
      "HV0003,B02764,2021-01-01 00:23:56,2021-01-01 00:38:05,233,142,\r",
      "\r\n",
      "HV0003,B02764,2021-01-01 00:42:51,2021-01-01 00:45:50,142,143,\r",
      "\r\n",
      "HV0003,B02764,2021-01-01 00:48:14,2021-01-01 01:08:42,143,78,\r",
      "\r\n",
      "HV0005,B02510,2021-01-01 00:06:59,2021-01-01 00:43:01,88,42,\r",
      "\r\n",
      "HV0005,B02510,2021-01-01 00:50:00,2021-01-01 01:04:57,42,151,\r",
      "\r\n",
      "HV0003,B02764,2021-01-01 00:14:30,2021-01-01 00:50:27,71,226,\r",
      "\r\n",
      "HV0003,B02875,2021-01-01 00:22:54,2021-01-01 00:30:20,112,255,\r",
      "\r\n"
     ]
    }
   ],
   "source": [
    "!head -n 10 head.csv"
   ]
  },
  {
   "cell_type": "code",
   "execution_count": 10,
   "id": "f45b772d",
   "metadata": {},
   "outputs": [
    {
     "name": "stdout",
     "output_type": "stream",
     "text": [
      "     101 head.csv\r\n"
     ]
    }
   ],
   "source": [
    "!wc -l head.csv"
   ]
  },
  {
   "cell_type": "code",
   "execution_count": 11,
   "id": "e2e082a0",
   "metadata": {},
   "outputs": [],
   "source": [
    "import pandas as pd"
   ]
  },
  {
   "cell_type": "code",
   "execution_count": 12,
   "id": "40cb8f5b",
   "metadata": {},
   "outputs": [],
   "source": [
    "df_pandas = pd.read_csv('head.csv')"
   ]
  },
  {
   "cell_type": "code",
   "execution_count": 13,
   "id": "4e6b5a7e",
   "metadata": {},
   "outputs": [
    {
     "data": {
      "text/plain": [
       "hvfhs_license_num        object\n",
       "dispatching_base_num     object\n",
       "pickup_datetime          object\n",
       "dropoff_datetime         object\n",
       "PULocationID              int64\n",
       "DOLocationID              int64\n",
       "SR_Flag                 float64\n",
       "dtype: object"
      ]
     },
     "execution_count": 13,
     "metadata": {},
     "output_type": "execute_result"
    }
   ],
   "source": [
    "df_pandas.dtypes"
   ]
  },
  {
   "cell_type": "code",
   "execution_count": 12,
   "id": "f56c8b04",
   "metadata": {},
   "outputs": [
    {
     "ename": "NameError",
     "evalue": "name 'df_pandas' is not defined",
     "output_type": "error",
     "traceback": [
      "\u001b[0;31m---------------------------------------------------------------------------\u001b[0m",
      "\u001b[0;31mNameError\u001b[0m                                 Traceback (most recent call last)",
      "\u001b[0;32m/var/folders/93/b_93xwls3c703mtn51tvxr5c0000gn/T/ipykernel_10672/3253771371.py\u001b[0m in \u001b[0;36m<module>\u001b[0;34m\u001b[0m\n\u001b[0;32m----> 1\u001b[0;31m \u001b[0mspark\u001b[0m\u001b[0;34m.\u001b[0m\u001b[0mcreateDataFrame\u001b[0m\u001b[0;34m(\u001b[0m\u001b[0mdf_pandas\u001b[0m\u001b[0;34m)\u001b[0m\u001b[0;34m.\u001b[0m\u001b[0mschema\u001b[0m\u001b[0;34m\u001b[0m\u001b[0;34m\u001b[0m\u001b[0m\n\u001b[0m",
      "\u001b[0;31mNameError\u001b[0m: name 'df_pandas' is not defined"
     ]
    }
   ],
   "source": [
    "spark.createDataFrame(df_pandas).schema"
   ]
  },
  {
   "cell_type": "code",
   "execution_count": 13,
   "id": "9cc763a8",
   "metadata": {},
   "outputs": [],
   "source": [
    "from pyspark.sql import types"
   ]
  },
  {
   "cell_type": "code",
   "execution_count": 14,
   "id": "92ead69a",
   "metadata": {},
   "outputs": [],
   "source": [
    "schema = types.StructType([\n",
    "    types.StructField('hvfhs_license_num', types.StringType(), True), \n",
    "    types.StructField('dispatching_base_num', types.StringType(), True), \n",
    "    types.StructField('pickup_datetime', types.TimestampType(), True), \n",
    "    types.StructField('dropoff_datetime', types.TimestampType(), True), \n",
    "    types.StructField('PULocationID', types.IntegerType(), True), \n",
    "    types.StructField('DOLocationID', types.IntegerType(), True), \n",
    "    types.StructField('SR_Flag', types.StringType(), True)\n",
    "    ])"
   ]
  },
  {
   "cell_type": "code",
   "execution_count": 15,
   "id": "bec9ad28",
   "metadata": {},
   "outputs": [],
   "source": [
    "df = spark.read \\\n",
    "     .option('header', 'true') \\\n",
    "     .schema(schema) \\\n",
    "     .csv('fhvhv_tripdata_2021-01.csv') "
   ]
  },
  {
   "cell_type": "code",
   "execution_count": 18,
   "id": "3ccafde2",
   "metadata": {},
   "outputs": [
    {
     "data": {
      "text/plain": [
       "[Row(hvfhs_license_num='HV0003', dispatching_base_num='B02682', pickup_datetime=datetime.datetime(2021, 1, 1, 0, 33, 44), dropoff_datetime=datetime.datetime(2021, 1, 1, 0, 49, 7), PULocationID=230, DOLocationID=166, SR_Flag=None),\n",
       " Row(hvfhs_license_num='HV0003', dispatching_base_num='B02682', pickup_datetime=datetime.datetime(2021, 1, 1, 0, 55, 19), dropoff_datetime=datetime.datetime(2021, 1, 1, 1, 18, 21), PULocationID=152, DOLocationID=167, SR_Flag=None),\n",
       " Row(hvfhs_license_num='HV0003', dispatching_base_num='B02764', pickup_datetime=datetime.datetime(2021, 1, 1, 0, 23, 56), dropoff_datetime=datetime.datetime(2021, 1, 1, 0, 38, 5), PULocationID=233, DOLocationID=142, SR_Flag=None),\n",
       " Row(hvfhs_license_num='HV0003', dispatching_base_num='B02764', pickup_datetime=datetime.datetime(2021, 1, 1, 0, 42, 51), dropoff_datetime=datetime.datetime(2021, 1, 1, 0, 45, 50), PULocationID=142, DOLocationID=143, SR_Flag=None),\n",
       " Row(hvfhs_license_num='HV0003', dispatching_base_num='B02764', pickup_datetime=datetime.datetime(2021, 1, 1, 0, 48, 14), dropoff_datetime=datetime.datetime(2021, 1, 1, 1, 8, 42), PULocationID=143, DOLocationID=78, SR_Flag=None),\n",
       " Row(hvfhs_license_num='HV0005', dispatching_base_num='B02510', pickup_datetime=datetime.datetime(2021, 1, 1, 0, 6, 59), dropoff_datetime=datetime.datetime(2021, 1, 1, 0, 43, 1), PULocationID=88, DOLocationID=42, SR_Flag=None),\n",
       " Row(hvfhs_license_num='HV0005', dispatching_base_num='B02510', pickup_datetime=datetime.datetime(2021, 1, 1, 0, 50), dropoff_datetime=datetime.datetime(2021, 1, 1, 1, 4, 57), PULocationID=42, DOLocationID=151, SR_Flag=None),\n",
       " Row(hvfhs_license_num='HV0003', dispatching_base_num='B02764', pickup_datetime=datetime.datetime(2021, 1, 1, 0, 14, 30), dropoff_datetime=datetime.datetime(2021, 1, 1, 0, 50, 27), PULocationID=71, DOLocationID=226, SR_Flag=None),\n",
       " Row(hvfhs_license_num='HV0003', dispatching_base_num='B02875', pickup_datetime=datetime.datetime(2021, 1, 1, 0, 22, 54), dropoff_datetime=datetime.datetime(2021, 1, 1, 0, 30, 20), PULocationID=112, DOLocationID=255, SR_Flag=None),\n",
       " Row(hvfhs_license_num='HV0003', dispatching_base_num='B02875', pickup_datetime=datetime.datetime(2021, 1, 1, 0, 40, 12), dropoff_datetime=datetime.datetime(2021, 1, 1, 0, 53, 31), PULocationID=255, DOLocationID=232, SR_Flag=None)]"
      ]
     },
     "execution_count": 18,
     "metadata": {},
     "output_type": "execute_result"
    }
   ],
   "source": [
    "df.head(10)"
   ]
  },
  {
   "cell_type": "code",
   "execution_count": 16,
   "id": "34ccc4fe",
   "metadata": {},
   "outputs": [],
   "source": [
    "df = df.repartition(24)"
   ]
  },
  {
   "cell_type": "code",
   "execution_count": 17,
   "id": "43360da2",
   "metadata": {},
   "outputs": [
    {
     "name": "stderr",
     "output_type": "stream",
     "text": [
      "[Stage 6:===================================================>       (7 + 1) / 8]\r"
     ]
    },
    {
     "name": "stdout",
     "output_type": "stream",
     "text": [
      "23/03/01 22:38:40 WARN MemoryManager: Total allocation exceeds 95.00% (1,020,054,720 bytes) of heap memory\n",
      "Scaling row group sizes to 95.00% for 8 writers\n"
     ]
    },
    {
     "name": "stderr",
     "output_type": "stream",
     "text": [
      "[Stage 8:===================>                                      (8 + 8) / 24]\r"
     ]
    },
    {
     "name": "stdout",
     "output_type": "stream",
     "text": [
      "23/03/01 22:38:42 WARN MemoryManager: Total allocation exceeds 95.00% (1,020,054,720 bytes) of heap memory\n",
      "Scaling row group sizes to 95.00% for 8 writers\n"
     ]
    },
    {
     "name": "stderr",
     "output_type": "stream",
     "text": [
      "[Stage 8:=================================>                       (14 + 8) / 24]\r"
     ]
    },
    {
     "name": "stdout",
     "output_type": "stream",
     "text": [
      "23/03/01 22:38:43 WARN MemoryManager: Total allocation exceeds 95.00% (1,020,054,720 bytes) of heap memory\n",
      "Scaling row group sizes to 95.00% for 8 writers\n"
     ]
    },
    {
     "name": "stderr",
     "output_type": "stream",
     "text": [
      "                                                                                \r"
     ]
    }
   ],
   "source": [
    "df.write.parquet('fhv/2021/01')"
   ]
  },
  {
   "cell_type": "code",
   "execution_count": 6,
   "id": "2a5b9f10",
   "metadata": {},
   "outputs": [
    {
     "data": {
      "text/plain": [
       "'http://192.168.1.112:4040'"
      ]
     },
     "execution_count": 6,
     "metadata": {},
     "output_type": "execute_result"
    }
   ],
   "source": [
    "spark.sparkContext.uiWebUrl"
   ]
  },
  {
   "cell_type": "code",
   "execution_count": 18,
   "id": "5ead3bd2",
   "metadata": {},
   "outputs": [],
   "source": [
    "df = spark.read.parquet('fhv/2021/01')"
   ]
  },
  {
   "cell_type": "code",
   "execution_count": 19,
   "id": "aed25298",
   "metadata": {},
   "outputs": [
    {
     "data": {
      "text/plain": [
       "DataFrame[hvfhs_license_num: string, dispatching_base_num: string, pickup_datetime: timestamp, dropoff_datetime: timestamp, PULocationID: int, DOLocationID: int, SR_Flag: string]"
      ]
     },
     "execution_count": 19,
     "metadata": {},
     "output_type": "execute_result"
    }
   ],
   "source": [
    "df"
   ]
  },
  {
   "cell_type": "code",
   "execution_count": 20,
   "id": "452dc10a",
   "metadata": {},
   "outputs": [
    {
     "data": {
      "text/plain": [
       "StructType([StructField('hvfhs_license_num', StringType(), True), StructField('dispatching_base_num', StringType(), True), StructField('pickup_datetime', TimestampType(), True), StructField('dropoff_datetime', TimestampType(), True), StructField('PULocationID', IntegerType(), True), StructField('DOLocationID', IntegerType(), True), StructField('SR_Flag', StringType(), True)])"
      ]
     },
     "execution_count": 20,
     "metadata": {},
     "output_type": "execute_result"
    }
   ],
   "source": [
    "df.schema"
   ]
  },
  {
   "cell_type": "code",
   "execution_count": 21,
   "id": "a0bb4c50",
   "metadata": {},
   "outputs": [
    {
     "name": "stdout",
     "output_type": "stream",
     "text": [
      "root\n",
      " |-- hvfhs_license_num: string (nullable = true)\n",
      " |-- dispatching_base_num: string (nullable = true)\n",
      " |-- pickup_datetime: timestamp (nullable = true)\n",
      " |-- dropoff_datetime: timestamp (nullable = true)\n",
      " |-- PULocationID: integer (nullable = true)\n",
      " |-- DOLocationID: integer (nullable = true)\n",
      " |-- SR_Flag: string (nullable = true)\n",
      "\n"
     ]
    }
   ],
   "source": [
    "df.printSchema()"
   ]
  },
  {
   "cell_type": "code",
   "execution_count": 23,
   "id": "87710dc1",
   "metadata": {},
   "outputs": [
    {
     "name": "stdout",
     "output_type": "stream",
     "text": [
      "+-------------------+-------------------+-------------------+-------------------+\n",
      "|    pickup_datetime|    pickup_datetime|    pickup_datetime|    pickup_datetime|\n",
      "+-------------------+-------------------+-------------------+-------------------+\n",
      "|2021-01-01 16:17:16|2021-01-01 16:17:16|2021-01-01 16:17:16|2021-01-01 16:17:16|\n",
      "|2021-01-04 15:44:57|2021-01-04 15:44:57|2021-01-04 15:44:57|2021-01-04 15:44:57|\n",
      "|2021-01-03 14:05:52|2021-01-03 14:05:52|2021-01-03 14:05:52|2021-01-03 14:05:52|\n",
      "|2021-01-01 09:27:50|2021-01-01 09:27:50|2021-01-01 09:27:50|2021-01-01 09:27:50|\n",
      "|2021-01-04 10:53:41|2021-01-04 10:53:41|2021-01-04 10:53:41|2021-01-04 10:53:41|\n",
      "|2021-01-04 22:29:41|2021-01-04 22:29:41|2021-01-04 22:29:41|2021-01-04 22:29:41|\n",
      "|2021-01-02 14:52:09|2021-01-02 14:52:09|2021-01-02 14:52:09|2021-01-02 14:52:09|\n",
      "|2021-01-01 07:31:49|2021-01-01 07:31:49|2021-01-01 07:31:49|2021-01-01 07:31:49|\n",
      "|2021-01-02 22:35:51|2021-01-02 22:35:51|2021-01-02 22:35:51|2021-01-02 22:35:51|\n",
      "|2021-01-01 15:38:12|2021-01-01 15:38:12|2021-01-01 15:38:12|2021-01-01 15:38:12|\n",
      "|2021-01-05 02:08:44|2021-01-05 02:08:44|2021-01-05 02:08:44|2021-01-05 02:08:44|\n",
      "|2021-01-01 03:56:09|2021-01-01 03:56:09|2021-01-01 03:56:09|2021-01-01 03:56:09|\n",
      "|2021-01-02 20:16:11|2021-01-02 20:16:11|2021-01-02 20:16:11|2021-01-02 20:16:11|\n",
      "|2021-01-04 07:34:31|2021-01-04 07:34:31|2021-01-04 07:34:31|2021-01-04 07:34:31|\n",
      "|2021-01-03 19:19:53|2021-01-03 19:19:53|2021-01-03 19:19:53|2021-01-03 19:19:53|\n",
      "|2021-01-04 08:51:08|2021-01-04 08:51:08|2021-01-04 08:51:08|2021-01-04 08:51:08|\n",
      "|2021-01-04 07:16:55|2021-01-04 07:16:55|2021-01-04 07:16:55|2021-01-04 07:16:55|\n",
      "|2021-01-02 11:06:51|2021-01-02 11:06:51|2021-01-02 11:06:51|2021-01-02 11:06:51|\n",
      "|2021-01-01 15:55:06|2021-01-01 15:55:06|2021-01-01 15:55:06|2021-01-01 15:55:06|\n",
      "|2021-01-05 06:45:46|2021-01-05 06:45:46|2021-01-05 06:45:46|2021-01-05 06:45:46|\n",
      "+-------------------+-------------------+-------------------+-------------------+\n",
      "only showing top 20 rows\n",
      "\n"
     ]
    }
   ],
   "source": [
    "df.select('pickup_datetime', 'pickup_datetime', 'pickup_datetime', 'pickup_datetime') \\\n",
    "  .filter(df.hvfhs_license_num == 'HV0003').show()"
   ]
  },
  {
   "cell_type": "code",
   "execution_count": 24,
   "id": "7b9f4be9",
   "metadata": {},
   "outputs": [],
   "source": [
    "from pyspark.sql import functions as F"
   ]
  },
  {
   "cell_type": "code",
   "execution_count": 29,
   "id": "4ac1c282",
   "metadata": {},
   "outputs": [
    {
     "name": "stdout",
     "output_type": "stream",
     "text": [
      "+-----------------+--------------------+-------------------+-------------------+------------+------------+-------+\n",
      "|hvfhs_license_num|dispatching_base_num|    pickup_datetime|   dropoff_datetime|PULocationID|DOLocationID|SR_Flag|\n",
      "+-----------------+--------------------+-------------------+-------------------+------------+------------+-------+\n",
      "|           HV0003|              B02884|2021-01-01 16:17:16|2021-01-01 16:35:20|         153|         167|   null|\n",
      "|           HV0003|              B02882|2021-01-04 15:44:57|2021-01-04 15:56:21|         127|         244|   null|\n",
      "|           HV0005|              B02510|2021-01-04 14:29:31|2021-01-04 14:54:56|         138|          49|   null|\n",
      "|           HV0003|              B02864|2021-01-03 14:05:52|2021-01-03 14:20:29|         183|          20|   null|\n",
      "|           HV0003|              B02867|2021-01-01 09:27:50|2021-01-01 09:46:50|         162|         106|   null|\n",
      "|           HV0005|              B02510|2021-01-05 11:26:21|2021-01-05 11:55:13|         216|         265|   null|\n",
      "|           HV0003|              B02888|2021-01-04 10:53:41|2021-01-04 11:53:07|          18|          18|   null|\n",
      "|           HV0005|              B02510|2021-01-05 05:05:55|2021-01-05 05:20:16|          42|         207|   null|\n",
      "|           HV0003|              B02875|2021-01-04 22:29:41|2021-01-04 22:51:07|          76|         215|   null|\n",
      "|           HV0003|              B02764|2021-01-02 14:52:09|2021-01-02 15:12:01|         220|          32|   null|\n",
      "|           HV0003|              B02875|2021-01-01 07:31:49|2021-01-01 07:46:16|         167|          94|   null|\n",
      "|           HV0003|              B02866|2021-01-02 22:35:51|2021-01-02 23:07:17|          71|         130|   null|\n",
      "|           HV0003|              B02872|2021-01-01 15:38:12|2021-01-01 15:58:56|         222|          61|   null|\n",
      "|           HV0005|              B02510|2021-01-03 08:22:26|2021-01-03 08:34:41|          89|         195|   null|\n",
      "|           HV0003|              B02878|2021-01-05 02:08:44|2021-01-05 02:26:05|         181|          17|   null|\n",
      "|           HV0003|              B02870|2021-01-01 03:56:09|2021-01-01 04:06:33|         255|          97|   null|\n",
      "|           HV0003|              B02866|2021-01-02 20:16:11|2021-01-02 20:35:53|         225|          97|   null|\n",
      "|           HV0003|              B02878|2021-01-04 07:34:31|2021-01-04 07:44:46|         189|          25|   null|\n",
      "|           HV0005|              B02510|2021-01-03 00:05:56|2021-01-03 00:17:52|         151|         116|   null|\n",
      "|           HV0003|              B02877|2021-01-03 19:19:53|2021-01-03 19:30:33|         147|          78|   null|\n",
      "+-----------------+--------------------+-------------------+-------------------+------------+------------+-------+\n",
      "only showing top 20 rows\n",
      "\n"
     ]
    }
   ],
   "source": [
    "df.show()"
   ]
  },
  {
   "cell_type": "code",
   "execution_count": 32,
   "id": "f4fc7719",
   "metadata": {},
   "outputs": [],
   "source": [
    "# a function that does crazy stuff for some weird business requirement\n",
    "# can't use sql\n",
    "def crazy_stuff(base_num):\n",
    "    num = int(base_num[1:])\n",
    "    if num % 7 == 0:\n",
    "        return f's/{num:03x}'\n",
    "    else:\n",
    "        return f'e/{num:03x}'\n",
    "# a sample why spark is better than just having sql, because we can use functions that we can test"
   ]
  },
  {
   "cell_type": "code",
   "execution_count": 33,
   "id": "f938a195",
   "metadata": {},
   "outputs": [
    {
     "data": {
      "text/plain": [
       "'s/b3d'"
      ]
     },
     "execution_count": 33,
     "metadata": {},
     "output_type": "execute_result"
    }
   ],
   "source": [
    "crazy_stuff('B02877')"
   ]
  },
  {
   "cell_type": "code",
   "execution_count": 36,
   "id": "3c082b10",
   "metadata": {},
   "outputs": [],
   "source": [
    "# now sample udf \n",
    "# udf is user define function\n",
    "crazy_stuff_udf = F.udf(crazy_stuff, returnType=types.StringType())"
   ]
  },
  {
   "cell_type": "code",
   "execution_count": 38,
   "id": "968f75af",
   "metadata": {},
   "outputs": [
    {
     "name": "stderr",
     "output_type": "stream",
     "text": [
      "\r",
      "[Stage 16:>                                                         (0 + 1) / 1]\r"
     ]
    },
    {
     "name": "stdout",
     "output_type": "stream",
     "text": [
      "+-----------+------------+-------+------------+------------+\n",
      "|pickup_date|dropoff_date|base_id|PULocationID|DOLocationID|\n",
      "+-----------+------------+-------+------------+------------+\n",
      "| 2021-01-01|  2021-01-01|  s/b44|         153|         167|\n",
      "| 2021-01-04|  2021-01-04|  e/b42|         127|         244|\n",
      "| 2021-01-04|  2021-01-04|  e/9ce|         138|          49|\n",
      "| 2021-01-03|  2021-01-03|  e/b30|         183|          20|\n",
      "| 2021-01-01|  2021-01-01|  e/b33|         162|         106|\n",
      "| 2021-01-05|  2021-01-05|  e/9ce|         216|         265|\n",
      "| 2021-01-04|  2021-01-04|  e/b48|          18|          18|\n",
      "| 2021-01-05|  2021-01-05|  e/9ce|          42|         207|\n",
      "| 2021-01-04|  2021-01-04|  e/b3b|          76|         215|\n",
      "| 2021-01-02|  2021-01-02|  e/acc|         220|          32|\n",
      "| 2021-01-01|  2021-01-01|  e/b3b|         167|          94|\n",
      "| 2021-01-02|  2021-01-02|  e/b32|          71|         130|\n",
      "| 2021-01-01|  2021-01-01|  e/b38|         222|          61|\n",
      "| 2021-01-03|  2021-01-03|  e/9ce|          89|         195|\n",
      "| 2021-01-05|  2021-01-05|  e/b3e|         181|          17|\n",
      "| 2021-01-01|  2021-01-01|  s/b36|         255|          97|\n",
      "| 2021-01-02|  2021-01-02|  e/b32|         225|          97|\n",
      "| 2021-01-04|  2021-01-04|  e/b3e|         189|          25|\n",
      "| 2021-01-03|  2021-01-03|  e/9ce|         151|         116|\n",
      "| 2021-01-03|  2021-01-03|  s/b3d|         147|          78|\n",
      "+-----------+------------+-------+------------+------------+\n",
      "only showing top 20 rows\n",
      "\n"
     ]
    },
    {
     "name": "stderr",
     "output_type": "stream",
     "text": [
      "\r",
      "                                                                                \r"
     ]
    }
   ],
   "source": [
    "df \\\n",
    "    .withColumn('pickup_date', F.to_date(df.pickup_datetime)) \\\n",
    "    .withColumn('dropoff_date', F.to_date(df.dropoff_datetime)) \\\n",
    "    .withColumn('base_id', crazy_stuff_udf(df.dispatching_base_num)) \\\n",
    "    .select('pickup_date', 'dropoff_date', 'base_id', 'PULocationID', 'DOLocationID') \\\n",
    "    .show()"
   ]
  },
  {
   "cell_type": "code",
   "execution_count": 28,
   "id": "cceaff35",
   "metadata": {},
   "outputs": [
    {
     "name": "stdout",
     "output_type": "stream",
     "text": [
      "+-------------------+-------------------+-------------------+-------------------+\n",
      "|    pickup_datetime|    pickup_datetime|    pickup_datetime|    pickup_datetime|\n",
      "+-------------------+-------------------+-------------------+-------------------+\n",
      "|2021-01-01 16:17:16|2021-01-01 16:17:16|2021-01-01 16:17:16|2021-01-01 16:17:16|\n",
      "|2021-01-04 15:44:57|2021-01-04 15:44:57|2021-01-04 15:44:57|2021-01-04 15:44:57|\n",
      "|2021-01-03 14:05:52|2021-01-03 14:05:52|2021-01-03 14:05:52|2021-01-03 14:05:52|\n",
      "|2021-01-01 09:27:50|2021-01-01 09:27:50|2021-01-01 09:27:50|2021-01-01 09:27:50|\n",
      "|2021-01-04 10:53:41|2021-01-04 10:53:41|2021-01-04 10:53:41|2021-01-04 10:53:41|\n",
      "|2021-01-04 22:29:41|2021-01-04 22:29:41|2021-01-04 22:29:41|2021-01-04 22:29:41|\n",
      "|2021-01-02 14:52:09|2021-01-02 14:52:09|2021-01-02 14:52:09|2021-01-02 14:52:09|\n",
      "|2021-01-01 07:31:49|2021-01-01 07:31:49|2021-01-01 07:31:49|2021-01-01 07:31:49|\n",
      "|2021-01-02 22:35:51|2021-01-02 22:35:51|2021-01-02 22:35:51|2021-01-02 22:35:51|\n",
      "|2021-01-01 15:38:12|2021-01-01 15:38:12|2021-01-01 15:38:12|2021-01-01 15:38:12|\n",
      "|2021-01-05 02:08:44|2021-01-05 02:08:44|2021-01-05 02:08:44|2021-01-05 02:08:44|\n",
      "|2021-01-01 03:56:09|2021-01-01 03:56:09|2021-01-01 03:56:09|2021-01-01 03:56:09|\n",
      "|2021-01-02 20:16:11|2021-01-02 20:16:11|2021-01-02 20:16:11|2021-01-02 20:16:11|\n",
      "|2021-01-04 07:34:31|2021-01-04 07:34:31|2021-01-04 07:34:31|2021-01-04 07:34:31|\n",
      "|2021-01-03 19:19:53|2021-01-03 19:19:53|2021-01-03 19:19:53|2021-01-03 19:19:53|\n",
      "|2021-01-04 08:51:08|2021-01-04 08:51:08|2021-01-04 08:51:08|2021-01-04 08:51:08|\n",
      "|2021-01-04 07:16:55|2021-01-04 07:16:55|2021-01-04 07:16:55|2021-01-04 07:16:55|\n",
      "|2021-01-02 11:06:51|2021-01-02 11:06:51|2021-01-02 11:06:51|2021-01-02 11:06:51|\n",
      "|2021-01-01 15:55:06|2021-01-01 15:55:06|2021-01-01 15:55:06|2021-01-01 15:55:06|\n",
      "|2021-01-05 06:45:46|2021-01-05 06:45:46|2021-01-05 06:45:46|2021-01-05 06:45:46|\n",
      "+-------------------+-------------------+-------------------+-------------------+\n",
      "only showing top 20 rows\n",
      "\n"
     ]
    }
   ],
   "source": [
    "df.select('pickup_datetime', 'pickup_datetime', 'pickup_datetime', 'pickup_datetime') \\\n",
    "  .filter(df.hvfhs_license_num == 'HV0003').show()"
   ]
  },
  {
   "cell_type": "code",
   "execution_count": null,
   "id": "5b83e078",
   "metadata": {},
   "outputs": [],
   "source": []
  }
 ],
 "metadata": {
  "kernelspec": {
   "display_name": "Python 3 (ipykernel)",
   "language": "python",
   "name": "python3"
  },
  "language_info": {
   "codemirror_mode": {
    "name": "ipython",
    "version": 3
   },
   "file_extension": ".py",
   "mimetype": "text/x-python",
   "name": "python",
   "nbconvert_exporter": "python",
   "pygments_lexer": "ipython3",
   "version": "3.9.13"
  }
 },
 "nbformat": 4,
 "nbformat_minor": 5
}
